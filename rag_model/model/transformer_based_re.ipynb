{
 "cells": [
  {
   "cell_type": "markdown",
   "id": "5295f087",
   "metadata": {},
   "source": [
    "### Related works Architecture:\n",
    "\n",
    "- Original Transformer\n",
    "\n",
    "- BERT\n",
    "\n",
    "- BART\n",
    "\n",
    "- T5\n",
    "\n",
    "- DeBERTa\n",
    "\n",
    "- GPT-NeoX\n",
    "\n",
    "- PaLM"
   ]
  },
  {
   "cell_type": "code",
   "execution_count": 20,
   "id": "b7df7422",
   "metadata": {},
   "outputs": [],
   "source": [
    "from underthesea import word_tokenize\n",
    "import re\n",
    "import pandas as pd\n",
    "\n",
    "import torch\n",
    "import torch.nn as nn\n",
    "import torch.nn.functional as F\n",
    "from typing import Optional\n",
    "from transformers import AutoModel, AutoTokenizer\n",
    "\n",
    "tokenizer = AutoTokenizer.from_pretrained(\"vinai/phobert-base\")"
   ]
  },
  {
   "cell_type": "markdown",
   "id": "f1b7b522",
   "metadata": {},
   "source": [
    "Just to keep in mind the wseg will not be used here to match with the PhoBERT tokenization algorithm"
   ]
  },
  {
   "cell_type": "code",
   "execution_count": 2,
   "id": "bda3b1ed",
   "metadata": {},
   "outputs": [
    {
     "data": {
      "text/plain": [
       "['Ban hành', 'Nghị định', 'sửa đổi', 'Luật', 'Đất đai']"
      ]
     },
     "execution_count": 2,
     "metadata": {},
     "output_type": "execute_result"
    }
   ],
   "source": [
    "word_tokenize('Ban hành Nghị định sửa đổi Luật Đất đai')"
   ]
  },
  {
   "cell_type": "code",
   "execution_count": 4,
   "id": "3d74441e",
   "metadata": {},
   "outputs": [
    {
     "data": {
      "text/plain": [
       "['Ban', 'hành', 'Nghị', 'định', 'sửa', 'đổi', 'Luật', 'Đất', 'đai']"
      ]
     },
     "execution_count": 4,
     "metadata": {},
     "output_type": "execute_result"
    }
   ],
   "source": [
    "tokenizer.tokenize('Ban hành Nghị định sửa đổi Luật Đất đai')"
   ]
  },
  {
   "cell_type": "markdown",
   "id": "1b6ecbb0",
   "metadata": {},
   "source": [
    "### Document type Mask matrix\n",
    "\n",
    "To be used in the Self-attention layer of Encoder, note that although word_tokenize can be applied for Wseg, we have to follow the PhoBERT tokenization formula to maintain the consistency and thus making the mask 1 in both subwords of a Wseg"
   ]
  },
  {
   "cell_type": "markdown",
   "id": "cfa31c80",
   "metadata": {},
   "source": [
    "Having a tokenized sentence (by Wseg)\n",
    "\n",
    "S = [$w_1, w_2,....w_N$]\n",
    "\n",
    "and a lexicon (defined list of known legal document types)\n",
    "\n",
    "Create a mask matrix $M_L \\in R^{N x N}$\n",
    "\n",
    "$m_ij$ = 1 if S[i:j] matches lexicon phrase\n",
    "\n",
    "= 0 otherwise\n",
    "\n",
    "Also rescale so that non-legal tokens can still attend to other tokens"
   ]
  },
  {
   "cell_type": "code",
   "execution_count": 42,
   "id": "e3a0922e",
   "metadata": {},
   "outputs": [],
   "source": [
    "def build_legal_mask(text):\n",
    "    tokens = tokenizer.tokenize(text.lower())\n",
    "    n = len(tokens)\n",
    "    M = torch.zeros((n, n), dtype=torch.int)\n",
    "\n",
    "    single = {'luật', 'pháp', 'điều', 'chương', 'khoản', 'mục'}\n",
    "    anchors = {\"nghị\", \"thông\", \"quyết\", \"hiến\", \"luật\", \"pháp\"}\n",
    "    followers = {\"định\", \"quyết\", \"tư\", \"pháp\", \"lệnh\"}\n",
    "\n",
    "    for i, tok in enumerate(tokens):\n",
    "        # mark single-word types like \"luật\", \"pháp\"\n",
    "        if tok in single:\n",
    "            M[i, i] = 1\n",
    "        # mark legal multiword combos (anchor + follower)\n",
    "        if tok in anchors and i + 1 < n:\n",
    "            if tokens[i + 1] in followers:\n",
    "                M[i, i] = 1\n",
    "                M[i + 1, i + 1] = 1\n",
    "                M[i, i + 1] = 1\n",
    "                M[i + 1, i] = 1\n",
    "    \n",
    "    M = 0.1 + 0.9 * M #rescale so that non-legal token can still attend\n",
    "\n",
    "    return tokens, M"
   ]
  },
  {
   "cell_type": "code",
   "execution_count": 37,
   "id": "616c410a",
   "metadata": {},
   "outputs": [],
   "source": [
    "tokens, legal = build_legal_mask('Ban hành Nghị định 23Bi/2312/NĐ-cp sửa đổi bổ sung Luật đất đai')"
   ]
  },
  {
   "cell_type": "code",
   "execution_count": 38,
   "id": "bf0e80b1",
   "metadata": {},
   "outputs": [
    {
     "data": {
      "image/png": "[encoded data removed]",
      "text/plain": [
       "<Figure size 300x300 with 1 Axes>"
      ]
     },
     "metadata": {},
     "output_type": "display_data"
    }
   ],
   "source": [
    "import matplotlib.pyplot as plt\n",
    "plt.figure(figsize=(3, 3))\n",
    "plt.imshow(legal, cmap='Greys', interpolation='nearest')\n",
    "plt.tight_layout()\n",
    "plt.show()"
   ]
  },
  {
   "cell_type": "markdown",
   "id": "be571fba",
   "metadata": {},
   "source": [
    "### Dual-encoding layers"
   ]
  },
  {
   "cell_type": "markdown",
   "id": "09dc3b49",
   "metadata": {},
   "source": [
    "#### PhoBERT General"
   ]
  },
  {
   "cell_type": "code",
   "execution_count": 7,
   "id": "8fbfadcf",
   "metadata": {},
   "outputs": [],
   "source": [
    "class PhoBertEmbedding:\n",
    "    def __init__(self, model_name=\"vinai/phobert-base\", device=None, freeze=False):\n",
    "        self.device = device or (\"cuda\" if torch.cuda.is_available() else \"cpu\")\n",
    "        self.tokenizer = AutoTokenizer.from_pretrained(model_name, use_fast=False)\n",
    "        self.model = AutoModel.from_pretrained(model_name).to(self.device)\n",
    "        if freeze:\n",
    "            for p in self.model.parameters():\n",
    "                p.requires_grad = False\n",
    "\n",
    "    def encode(self, texts):\n",
    "        toks = self.tokenizer(texts, return_tensors=\"pt\", padding=True, truncation=True)\n",
    "        input_ids = toks[\"input_ids\"].to(self.device)\n",
    "        attention_mask = toks[\"attention_mask\"].to(self.device)\n",
    "        outputs = self.model(input_ids=input_ids, attention_mask=attention_mask, return_dict=True)\n",
    "        # last_hidden_state: (batch, seq_len, hidden)\n",
    "        return outputs.last_hidden_state, attention_mask, toks"
   ]
  },
  {
   "cell_type": "code",
   "execution_count": 8,
   "id": "2480a9af",
   "metadata": {},
   "outputs": [
    {
     "name": "stderr",
     "output_type": "stream",
     "text": [
      "Asking to truncate to max_length but no maximum length is provided and the model has no predefined maximum length. Default to no truncation.\n"
     ]
    }
   ],
   "source": [
    "text = 'Ban hành Nghị định sửa đổi Luật Đất đai'\n",
    "\n",
    "phobert = PhoBertEmbedding(freeze=True)\n",
    "embeddings, attention_mask, toks = phobert.encode([text])"
   ]
  },
  {
   "cell_type": "markdown",
   "id": "d2e67a18",
   "metadata": {},
   "source": [
    "#### Transformer Encoder"
   ]
  },
  {
   "cell_type": "markdown",
   "id": "6d7c58a2",
   "metadata": {},
   "source": [
    "##### Positional Encoding"
   ]
  },
  {
   "cell_type": "markdown",
   "id": "4b8c4840",
   "metadata": {},
   "source": [
    "Modern Transformer-based models replace the traditional PE technique with using Relative Position. Instead of calculating the actual sinusoidal position of the token, the model encode the distance between Q-K tokens, which brings better information about how words interact with each other in a sentence. \n",
    "\n",
    "For a sequence of Length L: $$rel_{ij} = j - i$$\n",
    "\n",
    "we get a matrix of shape (L,L) showing the relative distance of each token with one other\n",
    "\n",
    "For T5-style Relative Position Bias, this embedding of relative distances gives a scalar bias per head per (i,j) and for each attention head h, we get a bias matrix $B^{(h)} \\in R^{L x L}$\n",
    "\n",
    "This bias is added directly to attention logits before the softmax:\n",
    "\n",
    "$$Attention^{(h)} = softmax(\\frac{QK^T}{\\sqrt{d_k}} + B^{(h)})$$\n",
    "\n",
    "and also be combined with the Lexicon masking \n",
    "\n",
    "$$Attention^{(h)} = softmax(M_D * (\\frac{QK^T}{\\sqrt{d_k}} + B^{(h)}))$$"
   ]
  },
  {
   "cell_type": "code",
   "execution_count": null,
   "id": "788dce0a",
   "metadata": {},
   "outputs": [],
   "source": [
    "## Learned absolute positions\n",
    "\n",
    "class RelativePositionBias(nn.Module):\n",
    "    \"\"\"\n",
    "    biases that are added to attention logits.\n",
    "    \"\"\"\n",
    "    def __init__(self, max_distance, n_heads):\n",
    "        super().__init__()\n",
    "        self.max_distance = max_distance\n",
    "        self.n_heads = n_heads\n",
    "        # relative distances range from -max_distance..+max_distance -> 2*max_distance+1 buckets for exmple -8->8 to 0->16\n",
    "        self.rel_emb = nn.Embedding(2 * max_distance + 1, n_heads)\n",
    "\n",
    "    def forward(self, seq_len, device=None):\n",
    "        device = device or next(self.rel_emb.parameters()).device\n",
    "        # compute matrix of relative distances j - i\n",
    "        idxs = torch.arange(seq_len, device=device)\n",
    "        rel = idxs.unsqueeze(0) - idxs.unsqueeze(1)  # (seq, seq) with relative distances\n",
    "        clipped = rel.clamp(-self.max_distance, self.max_distance) + self.max_distance #clip the values to positive range\n",
    "        biases = self.rel_emb(clipped).permute(2, 0, 1)  # (n_heads, seq, seq) embedding for trainable\n",
    "        return biases "
   ]
  },
  {
   "cell_type": "code",
   "execution_count": 15,
   "id": "f9488820",
   "metadata": {},
   "outputs": [],
   "source": [
    "## Traditional sinusoidal positions\n",
    "\n",
    "import math\n",
    "\n",
    "class SinusoidalPositionalEncoding(nn.Module):\n",
    "    def __init__(self, dim: int, max_len: int = 5000):\n",
    "        super().__init__()\n",
    "        self.dim = dim\n",
    "\n",
    "        # a long enough matrix of position encodings\n",
    "        position = torch.arange(max_len).unsqueeze(1) #(max_len, 1)\n",
    "        div_term = torch.exp(torch.arange(0, dim, 2) * (-math.log(10000.0) / dim))\n",
    "\n",
    "        #sine/cosine positional encodings\n",
    "        pe = torch.zeros(max_len, dim)\n",
    "        pe[:, 0::2] = torch.sin(position * div_term)\n",
    "        pe[:, 1::2] = torch.cos(position * div_term)\n",
    "        pe = pe.unsqueeze(0)  # (1, max_len, dim)\n",
    "\n",
    "        # Register as buffer (not a parameter, not updated by optimizer)\n",
    "        self.register_buffer(\"pe\", pe)\n",
    "\n",
    "    def forward(self, seq_len: int, device=None):\n",
    "        \"\"\"\n",
    "        Returns positional encodings for a sequence of length seq_len.\n",
    "        Output shape: (1, seq_len, dim)\n",
    "        \"\"\"\n",
    "        device = device or self.pe.device\n",
    "        return self.pe[:, :seq_len].to(device)"
   ]
  },
  {
   "cell_type": "markdown",
   "id": "2febb3c3",
   "metadata": {},
   "source": [
    "##### Multi-head Self-Attention layer"
   ]
  },
  {
   "cell_type": "code",
   "execution_count": null,
   "id": "cd136f7e",
   "metadata": {},
   "outputs": [],
   "source": [
    "class MultiHeadSelfAttention(nn.Module):\n",
    "    def __init__(self, dim, n_heads, dropout=0.1, pre_ln=True):\n",
    "        super().__init__()\n",
    "        self.dim = dim\n",
    "        self.n_heads = n_heads\n",
    "        self.d_k = dim // n_heads\n",
    "        self.pre_ln = pre_ln\n",
    "\n",
    "        #Initialize Query, Key, Value and Output projection\n",
    "        self.W_q = nn.Linear(dim, dim)\n",
    "        self.W_k = nn.Linear(dim, dim)\n",
    "        self.W_v = nn.Linear(dim, dim)\n",
    "        self.W_o = nn.Linear(dim, dim)\n",
    "\n",
    "        self.norm = nn.LayerNorm(dim, eps=1e-6)\n",
    "        self.dropout = nn.Dropout(dropout)\n",
    "\n",
    "    def forward(self, x, pos_bias=None, lex_mask=None, multiplicative=False):\n",
    "        residual = x  # Save for skip connection\n",
    "\n",
    "        # Pre-LN\n",
    "        if self.pre_ln:\n",
    "            x = self.norm(x)\n",
    "\n",
    "        B, N, _ = x.size()\n",
    "\n",
    "        Q = self.W_q(x).view(B, N, self.n_heads, self.d_k).transpose(1, 2)\n",
    "        K = self.W_k(x).view(B, N, self.n_heads, self.d_k).transpose(1, 2)\n",
    "        V = self.W_v(x).view(B, N, self.n_heads, self.d_k).transpose(1, 2)\n",
    "\n",
    "        # attention logits\n",
    "        attn_logits = torch.matmul(Q, K.transpose(-2, -1)) / (self.d_k ** 0.5)\n",
    "\n",
    "        # Add relative positional bias\n",
    "        if pos_bias is not None:\n",
    "            attn_logits = attn_logits + pos_bias.unsqueeze(0)\n",
    "\n",
    "        # add lexicon masking\n",
    "        if lex_mask is not None:\n",
    "            lex_mask = lex_mask.unsqueeze(0).unsqueeze(1)  # (1,1,N,N)\n",
    "            if multiplicative:\n",
    "                attn_logits = attn_logits * lex_mask\n",
    "            else:\n",
    "                attn_logits = attn_logits + lex_mask\n",
    "\n",
    "        attn = F.softmax(attn_logits, dim=-1)\n",
    "        attn = self.dropout(attn)\n",
    "\n",
    "        # ---- Weighted sum ----\n",
    "        out = torch.matmul(attn, V)\n",
    "        out = out.transpose(1, 2).contiguous().view(B, N, self.dim) #concat heads together\n",
    "        out = self.W_o(out) #Final linear layer for combining heads\n",
    "        out = self.dropout(out)\n",
    "\n",
    "        out = out + residual #add skip connection\n",
    "        \n",
    "        if not self.pre_ln:\n",
    "            out = self.norm(out)\n",
    "\n",
    "        return out, attn"
   ]
  },
  {
   "cell_type": "markdown",
   "id": "d55ba534",
   "metadata": {},
   "source": [
    "##### Feed-Forward NN with Residual Connection and LayerNorm"
   ]
  },
  {
   "cell_type": "markdown",
   "id": "1c004cd8",
   "metadata": {},
   "source": [
    "Note that modern models (T5, DeBERTa, GPT) apply Pre-LN which is LayerNorm before running the first linear combination and also apply 2 dropout after each linear combination to help regularize the parameters to avoid overfitting, useful in large deep models\n",
    "\n",
    "Also modern models utilize the GeLU activation instead of traditional ReLU in the MLP"
   ]
  },
  {
   "cell_type": "markdown",
   "id": "d91b0e26",
   "metadata": {},
   "source": [
    "GeLU: Gaussian Error Linear Unit has the mathematical definition: \n",
    "\n",
    "$$GeLU(x) = x.\\Theta(x)$$\n",
    "\n",
    "where $\\Theta(x)$ is the cumulative distribution function (CDF) of a standard normal distribution \n",
    "\n",
    "$$GeLU(x) = 0.5x(1 + erf(\\frac{x}{\\sqrt{2}}))$$\n",
    "\n",
    "Instead of making hard decision whether x > 0 in ReLU, GeLU makes a probabilistic decision based on how large x is, this makes the gradient smoother than ReLU and allows smoother transition while partially keeping small negative values"
   ]
  },
  {
   "cell_type": "code",
   "execution_count": null,
   "id": "33bb10fe",
   "metadata": {},
   "outputs": [
    {
     "data": {
      "image/png": "[encoded data removed]",
      "text/plain": [
       "<Figure size 640x480 with 1 Axes>"
      ]
     },
     "metadata": {},
     "output_type": "display_data"
    }
   ],
   "source": [
    "x = torch.linspace(-5, 5, 200)\n",
    "relu = F.relu(x)\n",
    "gelu = F.gelu(x)\n",
    "\n",
    "plt.plot(x, relu, label='ReLU')\n",
    "plt.plot(x, gelu, label='GELU')\n",
    "plt.legend()\n",
    "plt.grid(True)\n",
    "plt.title(\"ReLU vs GELU\")\n",
    "plt.show()\n"
   ]
  },
  {
   "cell_type": "code",
   "execution_count": null,
   "id": "733376ae",
   "metadata": {},
   "outputs": [],
   "source": [
    "class FeedForward(nn.Module):\n",
    "    def __init__(self, dim: int, hidden_dim: int, dropout: float = 0.1):\n",
    "        super().__init__()\n",
    "        hidden_dim = hidden_dim or 4 * dim  # default expansion that hidden dim is 4 x model_dim\n",
    "        self.norm = nn.LayerNorm(dim)\n",
    "        self.fc1 = nn.Linear(dim, hidden_dim)\n",
    "        self.act = nn.GELU()\n",
    "        self.fc2 = nn.Linear(hidden_dim, dim)\n",
    "        self.dropout = nn.Dropout(dropout)\n",
    "\n",
    "    def forward(self, x):\n",
    "        # Pre-LN + MLP + Residual\n",
    "        residual = x\n",
    "        x = self.norm(x)\n",
    "        x = self.fc1(x)\n",
    "        x = self.act(x)\n",
    "        x = self.dropout(x)\n",
    "        x = self.fc2(x)\n",
    "        x = self.dropout(x)\n",
    "        return residual + x #Skip connection"
   ]
  },
  {
   "cell_type": "markdown",
   "id": "ead6de81",
   "metadata": {},
   "source": [
    "#### Encoder Layer"
   ]
  },
  {
   "cell_type": "code",
   "execution_count": 32,
   "id": "5f14ac82",
   "metadata": {},
   "outputs": [],
   "source": [
    "class TransformerEncoderLayer(nn.Module):\n",
    "    def __init__(self, dim, n_heads, dropout=0.1, ff_hidden_dim=None):\n",
    "        super().__init__()\n",
    "        self.attn = MultiHeadSelfAttention(dim, n_heads, dropout=dropout, pre_ln=True)\n",
    "        self.ff = FeedForward(dim, hidden_dim=ff_hidden_dim, dropout=dropout)\n",
    "\n",
    "    def forward(self, x, rel_pos_bias=None, lex_mask=None):\n",
    "        #Multi-head self-attention\n",
    "        x, _ = self.attn(x, pos_bias=rel_pos_bias, lex_mask=lex_mask)\n",
    "        #FFN\n",
    "        x = self.ff(x)\n",
    "        return x"
   ]
  },
  {
   "cell_type": "code",
   "execution_count": null,
   "id": "279333a5",
   "metadata": {},
   "outputs": [],
   "source": [
    "class CombinedEmbedding(nn.Module):\n",
    "    def __init__(self, phobert, transformer_encoder, alpha=0.5):\n",
    "        super().__init__()\n",
    "        self.phobert = phobert\n",
    "        self.encoder = transformer_encoder\n",
    "        self.alpha = nn.Parameter(torch.tensor(alpha))  # learnable weighting\n",
    "\n",
    "    def forward(self, texts, rel_pos_bias=None, lex_mask=None):\n",
    "        # PhoBERT\n",
    "        pho_hidden, attn_mask, toks = self.phobert.encode(texts)  # (batch, seq_len, hidden_dim)\n",
    "\n",
    "        # Transformer encoder \n",
    "        trans_hidden = self.encoder(pho_hidden, rel_pos_bias=rel_pos_bias, lex_mask=lex_mask)\n",
    "\n",
    "        # linear combination between PhoBERT and encoder\n",
    "        alpha = torch.clamp(self.alpha, 0.0, 1.0) #for interpolation and alpha can be trained for optimization\n",
    "        combined = alpha * pho_hidden + (1 - alpha) * trans_hidden\n",
    "\n",
    "        return combined, attn_mask, toks"
   ]
  },
  {
   "cell_type": "code",
   "execution_count": 34,
   "id": "03d293ee",
   "metadata": {},
   "outputs": [
    {
     "name": "stderr",
     "output_type": "stream",
     "text": [
      "Asking to truncate to max_length but no maximum length is provided and the model has no predefined maximum length. Default to no truncation.\n"
     ]
    },
    {
     "name": "stdout",
     "output_type": "stream",
     "text": [
      "torch.Size([2, 46, 768])\n"
     ]
    }
   ],
   "source": [
    "phobert = PhoBertEmbedding(freeze=True)\n",
    "encoder = TransformerEncoderLayer(dim=768, n_heads=12, ff_hidden_dim=2048, dropout=0.1)\n",
    "combined_model = CombinedEmbedding(phobert, encoder, alpha=0.5)\n",
    "\n",
    "texts = [\n",
    "    \"Doanh nghiệp có thu nhập chịu thuế quy định tại Điều 3 của Luật này phải nộp thuế.\",\n",
    "    \"Quyết định Căn cứ Nghị định số 55/2025/NĐ-CP ngày 02 tháng 3 năm 2025 của Chính phủ quy định chức năng, nhiệm vụ, quyền hạn và cơ cấu tổ chức của Bộ Khoa học và Công nghệ\"\n",
    "]\n",
    "\n",
    "combined_output, attn_mask, toks = combined_model(texts)\n",
    "print(combined_output.shape)  # (batch, seq_len, 768)"
   ]
  },
  {
   "cell_type": "markdown",
   "id": "440d75c3",
   "metadata": {},
   "source": [
    "### Decoder"
   ]
  },
  {
   "cell_type": "code",
   "execution_count": null,
   "id": "99ab3cdf",
   "metadata": {},
   "outputs": [],
   "source": []
  }
 ],
 "metadata": {
  "kernelspec": {
   "display_name": "Python 3",
   "language": "python",
   "name": "python3"
  },
  "language_info": {
   "codemirror_mode": {
    "name": "ipython",
    "version": 3
   },
   "file_extension": ".py",
   "mimetype": "text/x-python",
   "name": "python",
   "nbconvert_exporter": "python",
   "pygments_lexer": "ipython3",
   "version": "3.12.0"
  }
 },
 "nbformat": 4,
 "nbformat_minor": 5
}
