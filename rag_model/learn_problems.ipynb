{
 "cells": [
  {
   "cell_type": "code",
   "execution_count": 2,
   "id": "7d62d408",
   "metadata": {},
   "outputs": [
    {
     "name": "stderr",
     "output_type": "stream",
     "text": [
      "2025-10-02 14:38:11,599|INFO|gatenlp.gateworker.gateworker|Port 25333 is already in use\n",
      "Trying to start GATE Worker on port=25334 host=127.0.0.1 log=false keep=false\n",
      "Process id is 20032\n",
      "PythonWorkerRunner.java: starting server with 25334/127.0.0.1/mySecretToken/false\n",
      "2025-10-02 14:38:17,509|INFO|gatenlp.gateworker.gateworker|Port 25333 is already in use\n",
      "2025-10-02 14:38:17,511|INFO|gatenlp.gateworker.gateworker|Port 25334 is already in use\n",
      "Trying to start GATE Worker on port=25335 host=127.0.0.1 log=false keep=false\n",
      "Process id is 19640\n"
     ]
    },
    {
     "name": "stdout",
     "output_type": "stream",
     "text": [
      "Auth token is: _XAw3yoyAv9g7NDrDMLm_860-c0\n"
     ]
    },
    {
     "name": "stderr",
     "output_type": "stream",
     "text": [
      "PythonWorkerRunner.java: starting server with 25335/127.0.0.1/_XAw3yoyAv9g7NDrDMLm_860-c0/false\n"
     ]
    }
   ],
   "source": [
    "from gatenlp import Document\n",
    "from gatenlp.gateworker import GateWorker\n",
    "\n",
    "import os\n",
    "os.environ[\"GATE_HOME\"] = r\"D:/Study/Setup/gatenlp\"\n",
    "\n",
    "# Create a document\n",
    "doc = Document(\"Barack Obama was the 44th President of the United States.\")\n",
    "\n",
    "# you can specify auth_token explicitly\n",
    "gw = GateWorker(start=True, auth_token=\"mySecretToken\")\n",
    "\n",
    "# or omit it, then a random one is generated\n",
    "gw = GateWorker(start=True)  \n",
    "print(\"Auth token is:\", gw._auth_token)\n"
   ]
  },
  {
   "cell_type": "code",
   "execution_count": null,
   "id": "bdba1a34",
   "metadata": {},
   "outputs": [],
   "source": []
  }
 ],
 "metadata": {
  "kernelspec": {
   "display_name": "Python 3",
   "language": "python",
   "name": "python3"
  },
  "language_info": {
   "codemirror_mode": {
    "name": "ipython",
    "version": 3
   },
   "file_extension": ".py",
   "mimetype": "text/x-python",
   "name": "python",
   "nbconvert_exporter": "python",
   "pygments_lexer": "ipython3",
   "version": "3.12.0"
  }
 },
 "nbformat": 4,
 "nbformat_minor": 5
}
